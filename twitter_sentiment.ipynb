{
  "nbformat": 4,
  "nbformat_minor": 0,
  "metadata": {
    "colab": {
      "name": "twitter_sentiment.ipynb",
      "version": "0.3.2",
      "provenance": [],
      "include_colab_link": true
    },
    "kernelspec": {
      "name": "python3",
      "display_name": "Python 3"
    }
  },
  "cells": [
    {
      "cell_type": "markdown",
      "metadata": {
        "id": "view-in-github",
        "colab_type": "text"
      },
      "source": [
        "<a href=\"https://colab.research.google.com/github/CyberDude0/ML/blob/dataproc/twitter_sentiment.ipynb\" target=\"_parent\"><img src=\"https://colab.research.google.com/assets/colab-badge.svg\" alt=\"Open In Colab\"/></a>"
      ]
    },
    {
      "cell_type": "code",
      "metadata": {
        "id": "dvHMqdeII7Mn",
        "colab_type": "code",
        "colab": {}
      },
      "source": [
        "import tweepy\n",
        "import matplotlib.pyplot as plt\n",
        "import time\n",
        "import textblob"
      ],
      "execution_count": 0,
      "outputs": []
    },
    {
      "cell_type": "code",
      "metadata": {
        "id": "vCln4cEVLCMM",
        "colab_type": "code",
        "colab": {}
      },
      "source": [
        "#all 4 authntication keys to access twittter  API\n",
        "#to connect as 0ath handler or jump server / reverse proxy server\n",
        "consumer_key=\"of311UqX7lNxkXjnwMIA7n9H8\"\n",
        "consumer_sec=\"74E5nGEQ3COAVSc6nnHv1xTe6vTUo1xHHnYLzEvnIGHwPBv9Lk\"\n",
        "\n",
        "#from proxy server we need to connect to web server of twitter\n",
        "access_token=\"3251148817-9Bn7gElDOY4YRaqRRhKqb4vlbYdDzHzLuvlH6Np\"\n",
        "access_sec=\"A2LuqyJT4unYirjSqaTAvPQ13IKOgfHEiu7g9jlSahDZY\"\n"
      ],
      "execution_count": 0,
      "outputs": []
    },
    {
      "cell_type": "code",
      "metadata": {
        "id": "2UB3g6jpOyfg",
        "colab_type": "code",
        "colab": {}
      },
      "source": [
        "#tweepy explore\n",
        "#connecting to jump server of twitter\n",
        "auth=tweepy.OAuthHandler(consumer_key,consumer_sec)"
      ],
      "execution_count": 0,
      "outputs": []
    },
    {
      "cell_type": "code",
      "metadata": {
        "id": "MnUyHhQ3PDWb",
        "colab_type": "code",
        "colab": {}
      },
      "source": [
        "#now we can connect from jump server to eb server of twitter \n",
        "auth.set_access_token(access_token,access_sec)"
      ],
      "execution_count": 0,
      "outputs": []
    },
    {
      "cell_type": "code",
      "metadata": {
        "id": "L4_JzLbgPbCk",
        "colab_type": "code",
        "colab": {}
      },
      "source": [
        "# now we can connect to API storage server of twitter\n",
        "api_connect=tweepy.API(auth)"
      ],
      "execution_count": 0,
      "outputs": []
    },
    {
      "cell_type": "code",
      "metadata": {
        "id": "O4Z-_LAMPpzu",
        "colab_type": "code",
        "colab": {}
      },
      "source": [
        "#now you can search anu topic on twitter\n",
        "tweet_data=api_connect.search('modi',count=20)"
      ],
      "execution_count": 0,
      "outputs": []
    },
    {
      "cell_type": "code",
      "metadata": {
        "id": "10QUwy_6P6sO",
        "colab_type": "code",
        "colab": {
          "base_uri": "https://localhost:8080/",
          "height": 584
        },
        "outputId": "85b7d78e-0400-4681-d906-2a701056e3c9"
      },
      "source": [
        "#printing  line by line\n",
        "for tweet in tweet_data:\n",
        "  print(tweet.text)\n",
        "  "
      ],
      "execution_count": 51,
      "outputs": [
        {
          "output_type": "stream",
          "text": [
            "RT @acorn: What is the name of @Ram_Guha’s next book? \n",
            "\n",
            "Gandhi after Modi.\n",
            "RT @AskAnshul: A Big Achievement:\n",
            "\n",
            "Ex PM Manmohan had set target for India to reach 20 GW Solar Energy by 2022.\n",
            "\n",
            "Under PM Modi, India achie…\n",
            "RT @_ugra_: We voted for Ram Temple. Might end up getting an inheritance tax instead. If not tomorrow, this tax is surely coming in this te…\n",
            "Union Budget 2019: Mysuru People Opinion On Modi Budget 2019 \n",
            "\n",
            "Video Link ►https://t.co/iT5xRzfeLi… https://t.co/qdLuCBZQ88\n",
            "Prime Minister Narendra Modi on Friday described the Union Budget as citizen friendly, development friendly and fut… https://t.co/fABz8TEWPE\n",
            "@des_modi 😂😂😂😂\n",
            "RT @vinayak_jain: No inheritance tax.\n",
            "\n",
            "The Sorry Cycle of Outrage — Media spreads a rumor. Many here go berserk. Shout and abuse Modi relen…\n",
            "RT @AskAnshul: A Big Achievement:\n",
            "\n",
            "Ex PM Manmohan had set target for India to reach 20 GW Solar Energy by 2022.\n",
            "\n",
            "Under PM Modi, India achie…\n",
            "RT @5Forty3: Greed is still a crime in India, being rich is virtually criminal, ambition is abhorred. Indira Gandhi taxation regime was 97%…\n",
            "RT @hai_sameer: @ipliscsk @UberEats @SwiggyCares @ZomatoIN @zomatocare @swiggy_in modi ji should take strict action against this corporate…\n",
            "RT @AskAnshul: A Big Achievement:\n",
            "\n",
            "Ex PM Manmohan had set target for India to reach 20 GW Solar Energy by 2022.\n",
            "\n",
            "Under PM Modi, India achie…\n",
            "RT @pbhushan1: After scrapping the original deal of 126 Rafale fighters with transfer of Tech &amp; Make in India with HAL,  to accommodate Amb…\n",
            "Narendra Modi\n"
          ],
          "name": "stdout"
        }
      ]
    },
    {
      "cell_type": "code",
      "metadata": {
        "id": "P7smBDP0QRum",
        "colab_type": "code",
        "colab": {}
      },
      "source": [
        ""
      ],
      "execution_count": 0,
      "outputs": []
    }
  ]
}