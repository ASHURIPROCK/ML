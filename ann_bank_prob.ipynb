{
  "nbformat": 4,
  "nbformat_minor": 0,
  "metadata": {
    "colab": {
      "name": "ann_bank_prob.ipynb",
      "version": "0.3.2",
      "provenance": [],
      "include_colab_link": true
    },
    "kernelspec": {
      "name": "python3",
      "display_name": "Python 3"
    }
  },
  "cells": [
    {
      "cell_type": "markdown",
      "metadata": {
        "id": "view-in-github",
        "colab_type": "text"
      },
      "source": [
        "<a href=\"https://colab.research.google.com/github/CyberDude0/ML/blob/dataproc/ann_bank_prob.ipynb\" target=\"_parent\"><img src=\"https://colab.research.google.com/assets/colab-badge.svg\" alt=\"Open In Colab\"/></a>"
      ]
    },
    {
      "cell_type": "code",
      "metadata": {
        "id": "a45sZw2wtIVS",
        "colab_type": "code",
        "colab": {}
      },
      "source": [
        "# laoding data via pandas\n",
        "import pandas as pd"
      ],
      "execution_count": 0,
      "outputs": []
    },
    {
      "cell_type": "code",
      "metadata": {
        "id": "kFHuNklmwXG5",
        "colab_type": "code",
        "colab": {}
      },
      "source": [
        "import seaborn as sb"
      ],
      "execution_count": 0,
      "outputs": []
    },
    {
      "cell_type": "code",
      "metadata": {
        "id": "-HCREl4T0UXp",
        "colab_type": "code",
        "colab": {}
      },
      "source": [
        "#loading data from url \n"
      ],
      "execution_count": 0,
      "outputs": []
    },
    {
      "cell_type": "code",
      "metadata": {
        "id": "TDDs8IvX0uAF",
        "colab_type": "code",
        "colab": {}
      },
      "source": [
        "#ffeatures adn label of data\n",
        "features=df.iloc[:,3:13].values"
      ],
      "execution_count": 0,
      "outputs": []
    },
    {
      "cell_type": "code",
      "metadata": {
        "id": "LeMylhHp1zgv",
        "colab_type": "code",
        "colab": {}
      },
      "source": [
        "features"
      ],
      "execution_count": 0,
      "outputs": []
    },
    {
      "cell_type": "code",
      "metadata": {
        "id": "qZAP23HP14Ri",
        "colab_type": "code",
        "colab": {}
      },
      "source": [
        "#bank exit status that is label\n",
        "label=df.iloc[:,13].values"
      ],
      "execution_count": 0,
      "outputs": []
    },
    {
      "cell_type": "code",
      "metadata": {
        "id": "jGosKSuC2HhC",
        "colab_type": "code",
        "colab": {}
      },
      "source": [
        "label"
      ],
      "execution_count": 0,
      "outputs": []
    },
    {
      "cell_type": "code",
      "metadata": {
        "id": "GweWwLlZ2Pzd",
        "colab_type": "code",
        "colab": {}
      },
      "source": [
        "#to convert string data inot numeric we can apply label encoding\n",
        "from sklearn.preprocessing import LabelEncoder"
      ],
      "execution_count": 0,
      "outputs": []
    },
    {
      "cell_type": "code",
      "metadata": {
        "id": "r91vIAIm2jbB",
        "colab_type": "code",
        "colab": {}
      },
      "source": [
        "countryenc=LabelEncoder()"
      ],
      "execution_count": 0,
      "outputs": []
    },
    {
      "cell_type": "code",
      "metadata": {
        "id": "UKYZRGaz2yeL",
        "colab_type": "code",
        "colab": {}
      },
      "source": [
        "features[0:,1]countryenc.fir_transform(features[0:,1])  # fit country and transformed into number"
      ],
      "execution_count": 0,
      "outputs": []
    },
    {
      "cell_type": "code",
      "metadata": {
        "id": "BVOFlQMf3Bfs",
        "colab_type": "code",
        "colab": {}
      },
      "source": [
        "features"
      ],
      "execution_count": 0,
      "outputs": []
    },
    {
      "cell_type": "code",
      "metadata": {
        "id": "eIkPtKYD3QNQ",
        "colab_type": "code",
        "colab": {}
      },
      "source": [
        "#same for gender\n",
        "features[0:,2]countryenc.fit_transform(features[0:,2])"
      ],
      "execution_count": 0,
      "outputs": []
    },
    {
      "cell_type": "code",
      "metadata": {
        "id": "lDGc_Ik33rv-",
        "colab_type": "code",
        "colab": {}
      },
      "source": [
        "#creating dummy variables usiing Onhot encoder\n",
        "from sklearn.preprocessing import OnhotEncoder"
      ],
      "execution_count": 0,
      "outputs": []
    },
    {
      "cell_type": "code",
      "metadata": {
        "id": "mnTZ20gM4wOa",
        "colab_type": "code",
        "colab": {}
      },
      "source": [
        "#callign function\n",
        "countryhot=OnehotEncoder(categorical_features= [1])"
      ],
      "execution_count": 0,
      "outputs": []
    },
    {
      "cell_type": "code",
      "metadata": {
        "id": "xWJS2h2M4606",
        "colab_type": "code",
        "colab": {}
      },
      "source": [
        " # fit and transform\n",
        "  features=countryhot.fit_transform(features).toarray()"
      ],
      "execution_count": 0,
      "outputs": []
    },
    {
      "cell_type": "code",
      "metadata": {
        "id": "CCiF7eYY5o_U",
        "colab_type": "code",
        "colab": {}
      },
      "source": [
        "# training and testing\n",
        "#fEATURE SCALING"
      ],
      "execution_count": 0,
      "outputs": []
    },
    {
      "cell_type": "code",
      "metadata": {
        "id": "B2DGJgBP5o8s",
        "colab_type": "code",
        "colab": {}
      },
      "source": [
        ""
      ],
      "execution_count": 0,
      "outputs": []
    }
  ]
}