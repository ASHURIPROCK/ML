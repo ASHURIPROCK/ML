{
  "nbformat": 4,
  "nbformat_minor": 0,
  "metadata": {
    "colab": {
      "name": "ann2_bank_prob.ipynb",
      "version": "0.3.2",
      "provenance": [],
      "include_colab_link": true
    },
    "kernelspec": {
      "name": "python3",
      "display_name": "Python 3"
    }
  },
  "cells": [
    {
      "cell_type": "markdown",
      "metadata": {
        "id": "view-in-github",
        "colab_type": "text"
      },
      "source": [
        "<a href=\"https://colab.research.google.com/github/CyberDude0/ML/blob/dataproc/ann2_bank_prob.ipynb\" target=\"_parent\"><img src=\"https://colab.research.google.com/assets/colab-badge.svg\" alt=\"Open In Colab\"/></a>"
      ]
    },
    {
      "cell_type": "code",
      "metadata": {
        "id": "a45sZw2wtIVS",
        "colab_type": "code",
        "colab": {}
      },
      "source": [
        "# laoding data via pandas\n",
        "import pandas as pd"
      ],
      "execution_count": 0,
      "outputs": []
    },
    {
      "cell_type": "code",
      "metadata": {
        "id": "kFHuNklmwXG5",
        "colab_type": "code",
        "colab": {}
      },
      "source": [
        "import seaborn as sb"
      ],
      "execution_count": 0,
      "outputs": []
    },
    {
      "cell_type": "code",
      "metadata": {
        "id": "-HCREl4T0UXp",
        "colab_type": "code",
        "colab": {}
      },
      "source": [
        "#schema\n",
        "df.info()"
      ],
      "execution_count": 0,
      "outputs": []
    },
    {
      "cell_type": "code",
      "metadata": {
        "id": "TDDs8IvX0uAF",
        "colab_type": "code",
        "colab": {}
      },
      "source": [
        "#ffeatures adn label of data\n",
        "features=df.iloc[:,3:13].values"
      ],
      "execution_count": 0,
      "outputs": []
    },
    {
      "cell_type": "code",
      "metadata": {
        "id": "LeMylhHp1zgv",
        "colab_type": "code",
        "colab": {}
      },
      "source": [
        "features"
      ],
      "execution_count": 0,
      "outputs": []
    },
    {
      "cell_type": "code",
      "metadata": {
        "id": "qZAP23HP14Ri",
        "colab_type": "code",
        "colab": {}
      },
      "source": [
        "#bank exit status that is label\n",
        "label=df.iloc[:,13].values"
      ],
      "execution_count": 0,
      "outputs": []
    },
    {
      "cell_type": "code",
      "metadata": {
        "id": "jGosKSuC2HhC",
        "colab_type": "code",
        "colab": {}
      },
      "source": [
        "label"
      ],
      "execution_count": 0,
      "outputs": []
    },
    {
      "cell_type": "code",
      "metadata": {
        "id": "GweWwLlZ2Pzd",
        "colab_type": "code",
        "colab": {}
      },
      "source": [
        "#to convert string data inot numeric we can apply label encoding\n",
        "from sklearn.preprocessing import LabelEncoder"
      ],
      "execution_count": 0,
      "outputs": []
    },
    {
      "cell_type": "code",
      "metadata": {
        "id": "r91vIAIm2jbB",
        "colab_type": "code",
        "colab": {}
      },
      "source": [
        "countryenc=LabelEncoder()"
      ],
      "execution_count": 0,
      "outputs": []
    },
    {
      "cell_type": "code",
      "metadata": {
        "id": "UKYZRGaz2yeL",
        "colab_type": "code",
        "colab": {}
      },
      "source": [
        "features[0:,1]countryenc.fir_transform(features[0:,1])  # fit country and transformed into number"
      ],
      "execution_count": 0,
      "outputs": []
    },
    {
      "cell_type": "code",
      "metadata": {
        "id": "BVOFlQMf3Bfs",
        "colab_type": "code",
        "colab": {}
      },
      "source": [
        "features"
      ],
      "execution_count": 0,
      "outputs": []
    },
    {
      "cell_type": "code",
      "metadata": {
        "id": "eIkPtKYD3QNQ",
        "colab_type": "code",
        "colab": {}
      },
      "source": [
        "#same for gender\n",
        "features[0:,2]countryenc.fit_transform(features[0:,2])"
      ],
      "execution_count": 0,
      "outputs": []
    },
    {
      "cell_type": "code",
      "metadata": {
        "id": "lDGc_Ik33rv-",
        "colab_type": "code",
        "colab": {}
      },
      "source": [
        "#creating dummy variables usiing Onhot encoder\n",
        "from sklearn.preprocessing import OnhotEncoder"
      ],
      "execution_count": 0,
      "outputs": []
    },
    {
      "cell_type": "code",
      "metadata": {
        "id": "mnTZ20gM4wOa",
        "colab_type": "code",
        "colab": {}
      },
      "source": [
        "#callign function\n",
        "countryhot=OnehotEncoder(categorical_features= [1])"
      ],
      "execution_count": 0,
      "outputs": []
    },
    {
      "cell_type": "code",
      "metadata": {
        "id": "xWJS2h2M4606",
        "colab_type": "code",
        "colab": {}
      },
      "source": [
        " # fit and transform\n",
        "  features=countryhot.fit_transform(features).toarray()"
      ],
      "execution_count": 0,
      "outputs": []
    },
    {
      "cell_type": "code",
      "metadata": {
        "id": "CCiF7eYY5o_U",
        "colab_type": "code",
        "colab": {}
      },
      "source": [
        "# training and testing\n",
        "from sklearn.model_selection import train_test_split"
      ],
      "execution_count": 0,
      "outputs": []
    },
    {
      "cell_type": "code",
      "metadata": {
        "id": "B2DGJgBP5o8s",
        "colab_type": "code",
        "colab": {}
      },
      "source": [
        "X,x,Y,y=train_test_split(features,label,test_size=0.2)"
      ],
      "execution_count": 0,
      "outputs": []
    },
    {
      "cell_type": "code",
      "metadata": {
        "id": "GtUpZ5XU8Wqd",
        "colab_type": "code",
        "colab": {}
      },
      "source": [
        "#feature scaling\n",
        "from sklearn.preprocessing import StandardScaler"
      ],
      "execution_count": 0,
      "outputs": []
    },
    {
      "cell_type": "code",
      "metadata": {
        "id": "gjBtBBZ18wkv",
        "colab_type": "code",
        "colab": {}
      },
      "source": [
        "sc=StandardScaler()"
      ],
      "execution_count": 0,
      "outputs": []
    },
    {
      "cell_type": "code",
      "metadata": {
        "id": "ScfbCHQJ80Iu",
        "colab_type": "code",
        "colab": {}
      },
      "source": [
        "#training data scale\n",
        "X=sc.fit_transform(X)"
      ],
      "execution_count": 0,
      "outputs": []
    },
    {
      "cell_type": "code",
      "metadata": {
        "id": "MbgI1y-j8_5_",
        "colab_type": "code",
        "colab": {}
      },
      "source": [
        "#testing data transform\n",
        "sc.transform(x)"
      ],
      "execution_count": 0,
      "outputs": []
    },
    {
      "cell_type": "code",
      "metadata": {
        "id": "GdWX5dHp9D9H",
        "colab_type": "code",
        "colab": {}
      },
      "source": [
        "#X\n",
        "x.shape"
      ],
      "execution_count": 0,
      "outputs": []
    },
    {
      "cell_type": "code",
      "metadata": {
        "id": "50m8Myqn9TSO",
        "colab_type": "code",
        "colab": {}
      },
      "source": [
        "import keras # this is thw way of using tensorflow in background"
      ],
      "execution_count": 0,
      "outputs": []
    },
    {
      "cell_type": "code",
      "metadata": {
        "id": "GIWpzFIPCyBX",
        "colab_type": "code",
        "colab": {}
      },
      "source": [
        "#keras ANN model library import\n",
        "from keras.models import Sequential\n",
        "# this will offer external model of ANN"
      ],
      "execution_count": 0,
      "outputs": []
    },
    {
      "cell_type": "code",
      "metadata": {
        "id": "Ua344tImDwiw",
        "colab_type": "code",
        "colab": {}
      },
      "source": [
        "#filling data in each layer --\n",
        "from keras.models import Dense\n",
        "#this will give the method to decide activation function and numbe of nodes in each layer\n",
        "#inluding input, hiiden adn output layer"
      ],
      "execution_count": 0,
      "outputs": []
    },
    {
      "cell_type": "code",
      "metadata": {
        "id": "2U3i32FjEFIl",
        "colab_type": "code",
        "colab": {}
      },
      "source": [
        "# now we can design Model\n",
        "model=Sequential()"
      ],
      "execution_count": 0,
      "outputs": []
    },
    {
      "cell_type": "code",
      "metadata": {
        "id": "PrDoiKd2EKZv",
        "colab_type": "code",
        "colab": {}
      },
      "source": [
        "# now can web add input layer\n",
        "ucv model.add(Dense(6,imput_sahep=(11,)activation=\"relu\"r))"
      ],
      "execution_count": 0,
      "outputs": []
    },
    {
      "cell_type": "code",
      "metadata": {
        "id": "dSQUJ9FPHfLW",
        "colab_type": "code",
        "colab": {}
      },
      "source": [
        "#adding one more hidden layer\n",
        "model.add(Densel(6,activation=\"relu\"))\n",
        "#note we don't have to assign number of inputs after first input layer\n"
      ],
      "execution_count": 0,
      "outputs": []
    },
    {
      "cell_type": "code",
      "metadata": {
        "id": "dISWR2P-H2XK",
        "colab_type": "code",
        "colab": {}
      },
      "source": [
        "#final layer adding\n",
        "model.add(Dense(1,activation='sigmoid'))"
      ],
      "execution_count": 0,
      "outputs": []
    },
    {
      "cell_type": "code",
      "metadata": {
        "id": "8YUz9cAxIGEW",
        "colab_type": "code",
        "colab": {}
      },
      "source": [
        "#compile \n",
        "model.compile(optmizer='adam',loss='binary_crossentropy',matrics=['accuracy'])\n",
        " # optimizer -- weight adjust method  -- stochitis g d (adam)"
      ],
      "execution_count": 0,
      "outputs": []
    },
    {
      "cell_type": "code",
      "metadata": {
        "id": "GHDGAoF9JhM_",
        "colab_type": "code",
        "colab": {}
      },
      "source": [
        "#training data fit\n",
        "model.fit(X,Y,batch_size=2000,epochs=100)"
      ],
      "execution_count": 0,
      "outputs": []
    }
  ]
}