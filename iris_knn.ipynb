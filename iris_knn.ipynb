{
  "nbformat": 4,
  "nbformat_minor": 0,
  "metadata": {
    "colab": {
      "name": "Untitled12.ipynb",
      "version": "0.3.2",
      "provenance": [],
      "include_colab_link": true
    },
    "kernelspec": {
      "name": "python3",
      "display_name": "Python 3"
    }
  },
  "cells": [
    {
      "cell_type": "markdown",
      "metadata": {
        "id": "view-in-github",
        "colab_type": "text"
      },
      "source": [
        "<a href=\"https://colab.research.google.com/github/CyberDude0/ML/blob/master/iris_knn.ipynb\" target=\"_parent\"><img src=\"https://colab.research.google.com/assets/colab-badge.svg\" alt=\"Open In Colab\"/></a>"
      ]
    },
    {
      "cell_type": "code",
      "metadata": {
        "id": "8cNeF4Wxfkqn",
        "colab_type": "code",
        "colab": {}
      },
      "source": [
        "  #loading iris data\n",
        "  from sklearn.datasets import load_iris\n",
        "  "
      ],
      "execution_count": 0,
      "outputs": []
    },
    {
      "cell_type": "code",
      "metadata": {
        "id": "19TlOc36gKU9",
        "colab_type": "code",
        "colab": {}
      },
      "source": [
        "#loading into a variable\n",
        "iris_data=load_iris()"
      ],
      "execution_count": 0,
      "outputs": []
    },
    {
      "cell_type": "code",
      "metadata": {
        "id": "SBHYlE0sgVFt",
        "colab_type": "code",
        "colab": {
          "base_uri": "https://localhost:8080/",
          "height": 34
        },
        "outputId": "e337ffb1-05b5-4c43-9963-3204763bcbf9"
      },
      "source": [
        "#describing iris data internaly\n",
        "dir(iris_data)"
      ],
      "execution_count": 4,
      "outputs": [
        {
          "output_type": "execute_result",
          "data": {
            "text/plain": [
              "['DESCR', 'data', 'feature_names', 'filename', 'target', 'target_names']"
            ]
          },
          "metadata": {
            "tags": []
          },
          "execution_count": 4
        }
      ]
    },
    {
      "cell_type": "code",
      "metadata": {
        "id": "G3Px0H_2giw7",
        "colab_type": "code",
        "colab": {
          "base_uri": "https://localhost:8080/",
          "height": 34
        },
        "outputId": "45e52a8f-f917-4783-f06b-06e754a095fb"
      },
      "source": [
        "# target output vale --\n",
        "iris_data.target_names"
      ],
      "execution_count": 5,
      "outputs": [
        {
          "output_type": "execute_result",
          "data": {
            "text/plain": [
              "array(['setosa', 'versicolor', 'virginica'], dtype='<U10')"
            ]
          },
          "metadata": {
            "tags": []
          },
          "execution_count": 5
        }
      ]
    },
    {
      "cell_type": "code",
      "metadata": {
        "id": "D36mHFBagsZL",
        "colab_type": "code",
        "colab": {
          "base_uri": "https://localhost:8080/",
          "height": 85
        },
        "outputId": "b0c3a3cf-6747-4777-d56f-75970a10d08a"
      },
      "source": [
        "#now attribute of features of given data\n",
        "iris_data.feature_names"
      ],
      "execution_count": 7,
      "outputs": [
        {
          "output_type": "execute_result",
          "data": {
            "text/plain": [
              "['sepal length (cm)',\n",
              " 'sepal width (cm)',\n",
              " 'petal length (cm)',\n",
              " 'petal width (cm)']"
            ]
          },
          "metadata": {
            "tags": []
          },
          "execution_count": 7
        }
      ]
    },
    {
      "cell_type": "code",
      "metadata": {
        "id": "71PSOjvqg6gq",
        "colab_type": "code",
        "colab": {}
      },
      "source": [
        "#data with attributes\n",
        "iris_features=iris_data.data"
      ],
      "execution_count": 0,
      "outputs": []
    },
    {
      "cell_type": "code",
      "metadata": {
        "id": "XPlbMHb_hL23",
        "colab_type": "code",
        "colab": {}
      },
      "source": [
        "#extracting label as per features\n",
        "label=iris_data.target"
      ],
      "execution_count": 0,
      "outputs": []
    },
    {
      "cell_type": "code",
      "metadata": {
        "id": "wDb5fFyehUht",
        "colab_type": "code",
        "colab": {}
      },
      "source": [
        "#seperating data into training and testing\n",
        "from sklearn.model_selection import train_test_split"
      ],
      "execution_count": 0,
      "outputs": []
    },
    {
      "cell_type": "code",
      "metadata": {
        "id": "CdpVmbAHiBlh",
        "colab_type": "code",
        "colab": {
          "base_uri": "https://localhost:8080/",
          "height": 1496
        },
        "outputId": "404fe49e-25cd-4142-c881-3ed6ac39690a"
      },
      "source": [
        "help(train_test_split)\n"
      ],
      "execution_count": 15,
      "outputs": [
        {
          "output_type": "stream",
          "text": [
            "Help on function train_test_split in module sklearn.model_selection._split:\n",
            "\n",
            "train_test_split(*arrays, **options)\n",
            "    Split arrays or matrices into random train and test subsets\n",
            "    \n",
            "    Quick utility that wraps input validation and\n",
            "    ``next(ShuffleSplit().split(X, y))`` and application to input data\n",
            "    into a single call for splitting (and optionally subsampling) data in a\n",
            "    oneliner.\n",
            "    \n",
            "    Read more in the :ref:`User Guide <cross_validation>`.\n",
            "    \n",
            "    Parameters\n",
            "    ----------\n",
            "    *arrays : sequence of indexables with same length / shape[0]\n",
            "        Allowed inputs are lists, numpy arrays, scipy-sparse\n",
            "        matrices or pandas dataframes.\n",
            "    \n",
            "    test_size : float, int or None, optional (default=None)\n",
            "        If float, should be between 0.0 and 1.0 and represent the proportion\n",
            "        of the dataset to include in the test split. If int, represents the\n",
            "        absolute number of test samples. If None, the value is set to the\n",
            "        complement of the train size. If ``train_size`` is also None, it will\n",
            "        be set to 0.25.\n",
            "    \n",
            "    train_size : float, int, or None, (default=None)\n",
            "        If float, should be between 0.0 and 1.0 and represent the\n",
            "        proportion of the dataset to include in the train split. If\n",
            "        int, represents the absolute number of train samples. If None,\n",
            "        the value is automatically set to the complement of the test size.\n",
            "    \n",
            "    random_state : int, RandomState instance or None, optional (default=None)\n",
            "        If int, random_state is the seed used by the random number generator;\n",
            "        If RandomState instance, random_state is the random number generator;\n",
            "        If None, the random number generator is the RandomState instance used\n",
            "        by `np.random`.\n",
            "    \n",
            "    shuffle : boolean, optional (default=True)\n",
            "        Whether or not to shuffle the data before splitting. If shuffle=False\n",
            "        then stratify must be None.\n",
            "    \n",
            "    stratify : array-like or None (default=None)\n",
            "        If not None, data is split in a stratified fashion, using this as\n",
            "        the class labels.\n",
            "    \n",
            "    Returns\n",
            "    -------\n",
            "    splitting : list, length=2 * len(arrays)\n",
            "        List containing train-test split of inputs.\n",
            "    \n",
            "        .. versionadded:: 0.16\n",
            "            If the input is sparse, the output will be a\n",
            "            ``scipy.sparse.csr_matrix``. Else, output type is the same as the\n",
            "            input type.\n",
            "    \n",
            "    Examples\n",
            "    --------\n",
            "    >>> import numpy as np\n",
            "    >>> from sklearn.model_selection import train_test_split\n",
            "    >>> X, y = np.arange(10).reshape((5, 2)), range(5)\n",
            "    >>> X\n",
            "    array([[0, 1],\n",
            "           [2, 3],\n",
            "           [4, 5],\n",
            "           [6, 7],\n",
            "           [8, 9]])\n",
            "    >>> list(y)\n",
            "    [0, 1, 2, 3, 4]\n",
            "    \n",
            "    >>> X_train, X_test, y_train, y_test = train_test_split(\n",
            "    ...     X, y, test_size=0.33, random_state=42)\n",
            "    ...\n",
            "    >>> X_train\n",
            "    array([[4, 5],\n",
            "           [0, 1],\n",
            "           [6, 7]])\n",
            "    >>> y_train\n",
            "    [2, 0, 3]\n",
            "    >>> X_test\n",
            "    array([[2, 3],\n",
            "           [8, 9]])\n",
            "    >>> y_test\n",
            "    [1, 4]\n",
            "    \n",
            "    >>> train_test_split(y, shuffle=False)\n",
            "    [[0, 1, 2], [3, 4]]\n",
            "\n"
          ],
          "name": "stdout"
        }
      ]
    },
    {
      "cell_type": "code",
      "metadata": {
        "id": "V3iE_BlTiEsx",
        "colab_type": "code",
        "colab": {}
      },
      "source": [
        "train_data,test_data,train_label,test_label=train_test_split(iris_features,label,test_size=0.2)"
      ],
      "execution_count": 0,
      "outputs": []
    },
    {
      "cell_type": "code",
      "metadata": {
        "id": "8xiF4aQhi_wy",
        "colab_type": "code",
        "colab": {}
      },
      "source": [
        "# importing knn classifier\n",
        "from sklearn.neighbors import KNeighborsClassifier"
      ],
      "execution_count": 0,
      "outputs": []
    },
    {
      "cell_type": "code",
      "metadata": {
        "id": "YR-Na5BokSWs",
        "colab_type": "code",
        "colab": {}
      },
      "source": [
        "# now calling KNN\n",
        "kclf=KNeighborsClassifier() #this is by default calue of K"
      ],
      "execution_count": 0,
      "outputs": []
    },
    {
      "cell_type": "code",
      "metadata": {
        "id": "yJS8D1FpkXzW",
        "colab_type": "code",
        "colab": {}
      },
      "source": [
        "#applying\n",
        "ktrained=kclf.fit(train_data,train_label)"
      ],
      "execution_count": 0,
      "outputs": []
    },
    {
      "cell_type": "code",
      "metadata": {
        "id": "4M9HO7BekcP-",
        "colab_type": "code",
        "colab": {}
      },
      "source": [
        "# now predicting\n",
        "predict_output=ktrained.predict(test_data)"
      ],
      "execution_count": 0,
      "outputs": []
    },
    {
      "cell_type": "code",
      "metadata": {
        "id": "9GB37Bo1mMdu",
        "colab_type": "code",
        "colab": {
          "base_uri": "https://localhost:8080/",
          "height": 51
        },
        "outputId": "a6938c83-949d-4231-e5cd-7fc6ee546289"
      },
      "source": [
        "predict_output"
      ],
      "execution_count": 32,
      "outputs": [
        {
          "output_type": "execute_result",
          "data": {
            "text/plain": [
              "array([0, 1, 2, 2, 1, 1, 1, 0, 1, 1, 0, 0, 0, 1, 0, 2, 1, 2, 0, 2, 2, 1,\n",
              "       2, 0, 2, 1, 2, 1, 1, 1])"
            ]
          },
          "metadata": {
            "tags": []
          },
          "execution_count": 32
        }
      ]
    },
    {
      "cell_type": "code",
      "metadata": {
        "id": "SEzS7APenaVv",
        "colab_type": "code",
        "colab": {
          "base_uri": "https://localhost:8080/",
          "height": 51
        },
        "outputId": "0634874d-ca79-43c0-9b7f-9916a21d7470"
      },
      "source": [
        "test_label"
      ],
      "execution_count": 33,
      "outputs": [
        {
          "output_type": "execute_result",
          "data": {
            "text/plain": [
              "array([0, 1, 2, 2, 1, 1, 2, 0, 1, 1, 0, 0, 0, 1, 0, 2, 1, 2, 0, 2, 1, 2,\n",
              "       2, 0, 2, 1, 2, 1, 1, 1])"
            ]
          },
          "metadata": {
            "tags": []
          },
          "execution_count": 33
        }
      ]
    },
    {
      "cell_type": "code",
      "metadata": {
        "id": "Eb1bXWdqnckP",
        "colab_type": "code",
        "colab": {}
      },
      "source": [
        "#calc accuracy\n",
        "from sklearn.metrics import accuracy_score "
      ],
      "execution_count": 0,
      "outputs": []
    },
    {
      "cell_type": "code",
      "metadata": {
        "id": "KbAzPjM4noMZ",
        "colab_type": "code",
        "colab": {}
      },
      "source": [
        "acrkn=accuracy_score(test_label,predict_output)"
      ],
      "execution_count": 0,
      "outputs": []
    },
    {
      "cell_type": "code",
      "metadata": {
        "id": "ydDe6MTdnwaO",
        "colab_type": "code",
        "colab": {
          "base_uri": "https://localhost:8080/",
          "height": 34
        },
        "outputId": "968de6bb-1a5d-4314-e976-c03bafa1cb7e"
      },
      "source": [
        "acrkn"
      ],
      "execution_count": 38,
      "outputs": [
        {
          "output_type": "execute_result",
          "data": {
            "text/plain": [
              "0.9"
            ]
          },
          "metadata": {
            "tags": []
          },
          "execution_count": 38
        }
      ]
    },
    {
      "cell_type": "code",
      "metadata": {
        "id": "PCuI8oUenyb3",
        "colab_type": "code",
        "colab": {}
      },
      "source": [
        "#calling decision tree clf\n",
        "from sklearn.tree import DecisionTreeClassifier\n",
        "dclf=DecisionTreeClassifier()"
      ],
      "execution_count": 0,
      "outputs": []
    },
    {
      "cell_type": "code",
      "metadata": {
        "id": "8ZViEH7doD7d",
        "colab_type": "code",
        "colab": {}
      },
      "source": [
        "dtrained=dclf.fit(train_data,train_label)"
      ],
      "execution_count": 0,
      "outputs": []
    },
    {
      "cell_type": "code",
      "metadata": {
        "id": "TTLxjkL2oKfc",
        "colab_type": "code",
        "colab": {}
      },
      "source": [
        "# now predicting\n",
        "dprediction=dtrained.predict(test_data)"
      ],
      "execution_count": 0,
      "outputs": []
    },
    {
      "cell_type": "code",
      "metadata": {
        "id": "VojDByw-oaBr",
        "colab_type": "code",
        "colab": {}
      },
      "source": [
        "# now accuracy\n",
        "dacr=accuracy_score(test_label,dprediction)"
      ],
      "execution_count": 0,
      "outputs": []
    },
    {
      "cell_type": "code",
      "metadata": {
        "id": "ChnpyPKhosLG",
        "colab_type": "code",
        "colab": {
          "base_uri": "https://localhost:8080/",
          "height": 34
        },
        "outputId": "d240569a-024f-4d56-ee4a-c9ea21d6ee50"
      },
      "source": [
        "dacr"
      ],
      "execution_count": 47,
      "outputs": [
        {
          "output_type": "execute_result",
          "data": {
            "text/plain": [
              "0.9"
            ]
          },
          "metadata": {
            "tags": []
          },
          "execution_count": 47
        }
      ]
    },
    {
      "cell_type": "code",
      "metadata": {
        "id": "ZH9re1jOowtq",
        "colab_type": "code",
        "colab": {}
      },
      "source": [
        ""
      ],
      "execution_count": 0,
      "outputs": []
    }
  ]
}